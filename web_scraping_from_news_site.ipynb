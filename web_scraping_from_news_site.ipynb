{
  "nbformat": 4,
  "nbformat_minor": 0,
  "metadata": {
    "colab": {
      "name": "web_scraping_from_news_site.ipynb",
      "provenance": [],
      "authorship_tag": "ABX9TyMysRyXnweMncf0Ei9Zvpna",
      "include_colab_link": true
    },
    "kernelspec": {
      "name": "python3",
      "display_name": "Python 3"
    },
    "language_info": {
      "name": "python"
    }
  },
  "cells": [
    {
      "cell_type": "markdown",
      "metadata": {
        "id": "view-in-github",
        "colab_type": "text"
      },
      "source": [
        "<a href=\"https://colab.research.google.com/github/prajwalvgotmare/web-scraping-using-bsf4/blob/main/web_scraping_from_news_site.ipynb\" target=\"_parent\"><img src=\"https://colab.research.google.com/assets/colab-badge.svg\" alt=\"Open In Colab\"/></a>"
      ]
    },
    {
      "cell_type": "code",
      "source": [
        "#In this we are installing beautifulsoup4 library on colab\n",
        "\n",
        "! pip install beautifulsoup4\n",
        "from bs4 import BeautifulSoup"
      ],
      "metadata": {
        "colab": {
          "base_uri": "https://localhost:8080/"
        },
        "id": "tQ8Z9GPSr-Z6",
        "outputId": "53ee33c3-c309-4753-9d61-6fe59ee281bc"
      },
      "execution_count": 34,
      "outputs": [
        {
          "output_type": "stream",
          "name": "stdout",
          "text": [
            "Looking in indexes: https://pypi.org/simple, https://us-python.pkg.dev/colab-wheels/public/simple/\n",
            "Requirement already satisfied: beautifulsoup4 in /usr/local/lib/python3.7/dist-packages (4.6.3)\n"
          ]
        }
      ]
    },
    {
      "cell_type": "code",
      "source": [
        "# importing the urlopen function after importing the urllib library\n",
        "\n",
        "import urllib.request\n",
        "page = urllib.request.urlopen('https://www.businessinsider.com/12-companies-that-will-pay-you-to-travel-the-world-2018-10?IR=T#2expedia-2')"
      ],
      "metadata": {
        "id": "mKW5Mxjm7dIN"
      },
      "execution_count": 35,
      "outputs": []
    },
    {
      "cell_type": "code",
      "source": [
        "# saving our page into a variable \"doc\"\n",
        "\n",
        "doc = BeautifulSoup(page)\n",
        "print(type(doc))"
      ],
      "metadata": {
        "colab": {
          "base_uri": "https://localhost:8080/"
        },
        "id": "00nldSnw6-5N",
        "outputId": "28519eb4-8bd6-4623-a126-68a54a5b24c0"
      },
      "execution_count": 36,
      "outputs": [
        {
          "output_type": "stream",
          "name": "stdout",
          "text": [
            "<class 'bs4.BeautifulSoup'>\n"
          ]
        }
      ]
    },
    {
      "cell_type": "code",
      "source": [
        "# printing the titles from the \"https://www.businessinsider.com/12-companies-that-will-pay-you-to-travel-the-world-2018-10?IR=T#1marriott-international-1\" website link\n",
        "# we are using the \"h2\" tag and the \"slide-title-text\" class for getting into that section of the html code\n",
        "\n",
        "t_list = doc.find_all(\"h2\", class_=\"slide-title-text\")\n",
        "print('This is the most sub section under h2 tag where we have to extract the text inside it :\\n\\n',t_list[0],'\\n')\n",
        "print('This is the list of the companies title we wanted to extract in the first place :  \\n')\n",
        "for i in t_list:\n",
        "  print(i.get_text()) # here we are using .get_text() function to get "
      ],
      "metadata": {
        "colab": {
          "base_uri": "https://localhost:8080/"
        },
        "id": "V2x_rXAz6-7u",
        "outputId": "777e2d9c-1b79-4436-d755-93df2f94b302"
      },
      "execution_count": 48,
      "outputs": [
        {
          "output_type": "stream",
          "name": "stdout",
          "text": [
            "This is the most sub section under h2 tag where we have to extract the text inside it :\n",
            "\n",
            " <h2 class=\"slide-title-text\" data-toc-label=\"[object Object]\">1. Marriott International</h2> \n",
            "\n",
            "This is the list of the companies title we wanted to extract in the first place :  \n",
            "\n",
            "1. Marriott International\n",
            "2. Expedia\n",
            "3. American Express\n",
            "4. Hilton\n",
            "5. American Airlines\n",
            "6. McKinsey & Company\n",
            "7. Delta Air Lines\n",
            "8. The Walt Disney Company\n",
            "9. Deloitte\n",
            "10. Lufthansa\n",
            "11. LogMeIn\n",
            "12. Uber\n"
          ]
        }
      ]
    }
  ]
}